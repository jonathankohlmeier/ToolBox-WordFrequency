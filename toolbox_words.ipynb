{
 "cells": [
  {
   "cell_type": "code",
   "execution_count": null,
   "metadata": {
    "collapsed": true
   },
   "outputs": [],
   "source": [
    "\"\"\" Analyzes the word frequencies in a book downloaded from\n",
    "\tProject Gutenberg \"\"\"\n",
    "\n",
    "import string\n",
    "\n",
    "def get_word_list(file_name):\n",
    "\t\"\"\" Reads the specified project Gutenberg book.  Header comments,\n",
    "\t\tpunctuation, and whitespace are stripped away.  The function\n",
    "\t\treturns a list of the words used in the book as a list.\n",
    "\t\tAll words are converted to lower case.\n",
    "\t\"\"\"\n",
    "\tpass\n",
    "\n",
    "def get_top_n_words(word_list, n):\n",
    "\t\"\"\" Takes a list of words as input and returns a list of the n most frequently\n",
    "\t\toccurring words ordered from most to least frequently occurring.\n",
    "\n",
    "\t\tword_list: a list of words (assumed to all be in lower case with no\n",
    "\t\t\t\t\tpunctuation\n",
    "\t\tn: the number of words to return\n",
    "\t\treturns: a list of n most frequently occurring words ordered from most\n",
    "\t\t\t\t frequently to least frequentlyoccurring\n",
    "\t\"\"\"\n",
    "\tpass"
   ]
  }
 ],
 "metadata": {
  "kernelspec": {
   "display_name": "Python 2",
   "language": "python",
   "name": "python2"
  },
  "language_info": {
   "codemirror_mode": {
    "name": "ipython",
    "version": 2
   },
   "file_extension": ".py",
   "mimetype": "text/x-python",
   "name": "python",
   "nbconvert_exporter": "python",
   "pygments_lexer": "ipython2",
   "version": "2.7.6"
  }
 },
 "nbformat": 4,
 "nbformat_minor": 1
}
